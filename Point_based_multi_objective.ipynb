{
 "cells": [
  {
   "cell_type": "code",
   "execution_count": 5,
   "id": "6d16351f",
   "metadata": {},
   "outputs": [],
   "source": [
    "import numpy as np\n",
    "import pandas as pd\n",
    "from collections import Counter\n"
   ]
  },
  {
   "cell_type": "code",
   "execution_count": 6,
   "id": "af4653ba",
   "metadata": {},
   "outputs": [],
   "source": [
    "def load_data(path, *args):\n",
    "    data = pd.read_csv(path)\n",
    "    data = data.dropna()\n",
    "    lst = []\n",
    "    for header in args:\n",
    "        if header == \"SALARY\":\n",
    "            data[header] = pd.to_numeric(data[header].str.replace(r\"[$,]\", \"\", regex=True).str.strip())\n",
    "        lst.append(np.array(data[header].tolist()))\n",
    "    return lst\n",
    "\n",
    "rng = np.random.default_rng(42)\n",
    "players, points, rebounds, assists, weights = load_data(\"./nbasalariespoints.csv\", \"Player\", \"PS/G▼\", \"TRB\", \"AST\", \"SALARY\")"
   ]
  },
  {
   "cell_type": "code",
   "execution_count": 7,
   "id": "b4ff8130",
   "metadata": {},
   "outputs": [],
   "source": [
    "def initializePopulation(pop_size, team_size):\n",
    "    return rng.integers(0, len(weights) - 1, (pop_size, team_size), dtype=int)\n",
    "\n",
    "def calculateValue(individual, obj):\n",
    "    return np.sum(obj[individual])\n",
    "\n",
    "def calculateWeight(individual, weights):\n",
    "    return np.sum(weights[individual])\n",
    "\n",
    "def calculateFitness(individual, weights, capacity, ideal_point, objectives):\n",
    "    val_list = []\n",
    "    total = 0\n",
    "\n",
    "    for objective in objectives:\n",
    "        val_list.append(calculateValue(individual, objective))\n",
    "    \n",
    "    for i in range(len(ideal_point)):\n",
    "        diff = ideal_point[i] - val_list[i]\n",
    "        # Allows for overshooting the point\n",
    "        if diff > 0:\n",
    "            total += diff ** 2\n",
    "    dist = np.sqrt(total)\n",
    "\n",
    "    # Use 1/dist as fitness\n",
    "    if dist != 0: fitness = 1/dist\n",
    "    else: fitness = np.inf\n",
    "\n",
    "    # Can't choose the same player twice\n",
    "    if (len(set(individual)) < 15) or (calculateWeight(individual, weights) > capacity):\n",
    "        fitness = -np.inf\n",
    "    return fitness\n",
    "\n",
    "def adjustDistribution(capacity, weights, population, ideal_point, objectives, counter):\n",
    "    fitness = []\n",
    "    distribution = np.ones(len(weights)) / len(weights)\n",
    "    for individual in population:\n",
    "        fitness.append(calculateFitness(individual, weights, capacity, ideal_point, objectives))\n",
    "        \n",
    "    indices = np.argsort(fitness)\n",
    "    population = population[indices][::-1]\n",
    "    fitness = np.sort(fitness)[::-1]\n",
    "\n",
    "    for i in range(len(fitness)):\n",
    "        if fitness[i] > .75 * fitness[0]:\n",
    "            counter += Counter(population[i])\n",
    "        else: break\n",
    "\n",
    "    for index, count in counter.items():\n",
    "        distribution[index] = count / len(distribution)\n",
    "    distribution = distribution / distribution.sum()\n",
    "    \n",
    "    return distribution\n",
    "\n",
    "def Sample(distribution, pop_size, team_size):\n",
    "    length = len(distribution)\n",
    "    population = np.zeros((pop_size, team_size), dtype=int)\n",
    "\n",
    "    for i in range(pop_size):\n",
    "        population[i] = rng.choice(length, team_size, p = distribution)\n",
    "    return population\n",
    "\n",
    "def knapSackGenetic(capacity, weights, training_length, pop_size, team_size, ideal_point, objectives):\n",
    "    population = initializePopulation(pop_size, team_size)\n",
    "    counter = Counter()\n",
    "\n",
    "    for i in range(training_length):\n",
    "        distribution = adjustDistribution(capacity, weights, population, ideal_point, objectives, counter)\n",
    "        population = Sample(distribution, pop_size, team_size)\n",
    "\n",
    "    indices = np.argsort([val for val in [calculateFitness(individual, weights, capacity, ideal_point, objectives) for individual in population]])\n",
    "    best_solution = population[indices][-1]\n",
    "    return best_solution\n"
   ]
  },
  {
   "cell_type": "code",
   "execution_count": 8,
   "id": "86bd58ba",
   "metadata": {},
   "outputs": [
    {
     "name": "stdout",
     "output_type": "stream",
     "text": [
      "[  0   1   5  12  33  36  37  39  42  45  65  68  69  77 125]\n",
      "['Stephen Curry' 'James Harden' 'Damian Lillard' 'Carmelo Anthony'\n",
      " 'LaMarcus Aldridge' 'Bradley Beal' 'Rudy Gay' 'Giannis Antetokounmpo'\n",
      " 'Pau Gasol' 'Andre Drummond' 'Jabari Parker' 'Draymond Green'\n",
      " 'Zach LaVine' 'Arron Afflalo' 'Ricky Rubio']\n",
      "Value of objective 1: 273.2\n",
      "Value of objective 2: 100.6\n",
      "Value of objective 3: 63.400000000000006\n"
     ]
    }
   ],
   "source": [
    "ideal_point = [300, 140]\n",
    "capacity = 150_000_000\n",
    "training_length = 1000\n",
    "pop_size = 100\n",
    "team_size = 15\n",
    "objectives = [points, rebounds, assists]\n",
    "\n",
    "individual = knapSackGenetic(capacity, weights, training_length, pop_size, team_size, ideal_point, objectives)\n",
    "individual = np.sort(individual)\n",
    "print(individual)\n",
    "print(players[individual])\n",
    "\n",
    "print(f\"Value of objective 1: {calculateValue(individual, objectives[0])}\")\n",
    "print(f\"Value of objective 2: {calculateValue(individual, objectives[1])}\")\n",
    "print(f\"Value of objective 3: {calculateValue(individual, objectives[2])}\")\n"
   ]
  }
 ],
 "metadata": {
  "kernelspec": {
   "display_name": "base",
   "language": "python",
   "name": "python3"
  },
  "language_info": {
   "codemirror_mode": {
    "name": "ipython",
    "version": 3
   },
   "file_extension": ".py",
   "mimetype": "text/x-python",
   "name": "python",
   "nbconvert_exporter": "python",
   "pygments_lexer": "ipython3",
   "version": "3.13.5"
  }
 },
 "nbformat": 4,
 "nbformat_minor": 5
}
