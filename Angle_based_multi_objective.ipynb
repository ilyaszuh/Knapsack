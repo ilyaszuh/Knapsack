{
 "cells": [
  {
   "cell_type": "code",
   "execution_count": 1,
   "id": "6d16351f",
   "metadata": {},
   "outputs": [],
   "source": [
    "import numpy as np\n",
    "import pandas as pd\n",
    "from scipy.stats import gamma\n",
    "from collections import Counter \n",
    "rng = np.random.default_rng(42)"
   ]
  },
  {
   "cell_type": "code",
   "execution_count": 2,
   "id": "af4653ba",
   "metadata": {},
   "outputs": [
    {
     "name": "stdout",
     "output_type": "stream",
     "text": [
      "          Rebounds   Assists    Salary\n",
      "Rebounds  1.000000 -0.323585  0.151784\n",
      "Assists  -0.323585  1.000000  0.265169\n",
      "Salary    0.151784  0.265169  1.000000\n"
     ]
    }
   ],
   "source": [
    "nbadata = pd.read_csv(\"./nbasalariespoints.csv\")\n",
    "nbadata = nbadata.dropna()\n",
    "nbadata.keys()\n",
    "nbadata['SALARY'] = pd.to_numeric(nbadata['SALARY'].str.replace(r\"[$,]\", \"\", regex=True).str.strip())\n",
    "\n",
    "min_minutes = 12\n",
    "nbadata = nbadata[nbadata['MP'] >= min_minutes] \n",
    "\n",
    "salary = nbadata['SALARY']\n",
    "points = nbadata['PS/G▼']\n",
    "rebounds = nbadata['TRB']\n",
    "assists = nbadata['AST']\n",
    "steals = nbadata['STL']\n",
    "blocks = nbadata['BLK']\n",
    "turnovers = nbadata['TOV']\n",
    "three_pointers = nbadata['3P']\n",
    "fieldgoals = nbadata['eFG%']\n",
    "freethrows = nbadata['FT']\n",
    "fouls = nbadata['PF']\n",
    "minutes = nbadata['MP']\n",
    "players = nbadata['Player']\n",
    "taskdata = pd.DataFrame({\n",
    "  # 'Player': players,\n",
    "  #  'Points': 36*points/minutes,\n",
    "    'Rebounds': 36*rebounds/minutes,\n",
    "    'Assists': 36*assists/minutes,\n",
    "    'Salary': salary,\n",
    "  #  'Steals': 36*steals/minutes,\n",
    " #   'Blocks': 36*blocks/minutes,\n",
    "}).reset_index(drop=True)\n",
    "\n",
    "weights = taskdata[\"Salary\"]\n",
    "objectives = [taskdata[\"Rebounds\"], taskdata[\"Assists\"]]\n",
    "capacity = 150_000_000\n",
    "\n",
    "corr = taskdata.corr(\"pearson\")\n",
    "print(corr)"
   ]
  },
  {
   "cell_type": "code",
   "execution_count": 3,
   "id": "055a3a37",
   "metadata": {},
   "outputs": [
    {
     "name": "stdout",
     "output_type": "stream",
     "text": [
      "Estimated Shape (alpha): 5.5408\n",
      "Estimated Scale (theta or 1/rate): 1.1467\n",
      "Estimated Shape (alpha): 2.9772\n",
      "Estimated Scale (theta or 1/rate): 1.1295\n",
      "Estimated Shape (alpha): 1.1701\n",
      "Estimated Scale (theta or 1/rate): 5157057.6371\n"
     ]
    }
   ],
   "source": [
    "shape_estimated, loc_estimated, scale_estimated = gamma.fit(objectives[0], floc=0)\n",
    "print(f\"Estimated Shape (alpha): {shape_estimated:.4f}\")\n",
    "print(f\"Estimated Scale (theta or 1/rate): {scale_estimated:.4f}\")\n",
    "\n",
    "shape_estimated, loc_estimated, scale_estimated = gamma.fit(objectives[1], floc=0)\n",
    "print(f\"Estimated Shape (alpha): {shape_estimated:.4f}\")\n",
    "print(f\"Estimated Scale (theta or 1/rate): {scale_estimated:.4f}\")\n",
    "\n",
    "shape_estimated, loc_estimated, scale_estimated = gamma.fit(weights, floc=0)\n",
    "print(f\"Estimated Shape (alpha): {shape_estimated:.4f}\")\n",
    "print(f\"Estimated Scale (theta or 1/rate): {scale_estimated:.4f}\")"
   ]
  },
  {
   "cell_type": "code",
   "execution_count": 4,
   "id": "b4ff8130",
   "metadata": {},
   "outputs": [],
   "source": [
    "def calculateValue(individual, obj):\n",
    "    return np.sum(obj[individual])\n",
    "\n",
    "def calculateWeight(individual):\n",
    "    return np.sum(weights[individual])\n",
    "\n",
    "def calculateFitness(individual, ideal_point, objectives):\n",
    "    length = len(ideal_point)\n",
    "    val_arr = np.zeros(length)\n",
    "\n",
    "    for i in range(length):\n",
    "        val_arr[i] = calculateValue(individual, objectives[i])\n",
    "\n",
    "    cos_theta = np.dot(val_arr, ideal_point) / (np.linalg.norm(val_arr) * np.linalg.norm(ideal_point))\n",
    "    fitness = cos_theta\n",
    "\n",
    "    return fitness\n",
    "\n",
    "def non_dominated(population, objectives):\n",
    "    pop_size = len(population)\n",
    "    objective_size = len(objectives)\n",
    "    non_dominated = np.zeros(pop_size, dtype=bool)\n",
    "    objective_values = np.zeros((pop_size, objective_size))\n",
    "    for i in range(pop_size):\n",
    "        for j in range(objective_size):\n",
    "            objective_values[i][j] = calculateValue(population[i], objectives[j])\n",
    "    \n",
    "    for i in range(pop_size):\n",
    "        dominated = np.zeros(pop_size, dtype=bool)\n",
    "        for j in range(pop_size):\n",
    "            dominated[j]= np.all(objective_values[i,:] < objective_values[j,:])\n",
    "        non_dominated[i] = ~np.any(dominated)\n",
    "    \n",
    "    return population[non_dominated]\n",
    "\n",
    "def adjustDistribution(population, ideal_point, objectives, counter):\n",
    "    fitness = []\n",
    "    distribution = np.ones(len(weights)) / len(weights)\n",
    "    population = non_dominated(population, objectives)\n",
    "    for individual in population:\n",
    "        fitness.append(calculateFitness(individual, ideal_point, objectives))\n",
    "        \n",
    "    indices = np.argsort(fitness)\n",
    "    population = population[indices][::-1]\n",
    "    fitness = np.sort(fitness)[::-1]\n",
    "\n",
    "    fit_pop = []\n",
    "    for i in range(len(fitness)):\n",
    "        if fitness[i] > .99:\n",
    "            counter += Counter(population[i])\n",
    "            fit_pop.append(population[i])\n",
    "        else: break\n",
    "\n",
    "    for index, count in counter.items():\n",
    "        distribution[index] = count / len(distribution)\n",
    "    distribution = distribution / distribution.sum()\n",
    "    \n",
    "    return distribution, fit_pop\n",
    "\n",
    "def Sample(distribution, pop_size, team_size):\n",
    "    length = len(distribution)\n",
    "    pop_count = 0\n",
    "    population = np.zeros((pop_size, team_size), dtype=int)\n",
    "\n",
    "    while pop_count < pop_size:\n",
    "        sample = rng.choice(length, team_size, p = distribution, replace = False)\n",
    "        if calculateWeight(sample) <= capacity:\n",
    "            population[pop_count] = sample\n",
    "            pop_count += 1\n",
    "    return population\n"
   ]
  },
  {
   "cell_type": "code",
   "execution_count": 5,
   "id": "86bd58ba",
   "metadata": {},
   "outputs": [
    {
     "ename": "IndexError",
     "evalue": "list index out of range",
     "output_type": "error",
     "traceback": [
      "\u001b[31m---------------------------------------------------------------------------\u001b[39m",
      "\u001b[31mIndexError\u001b[39m                                Traceback (most recent call last)",
      "\u001b[36mCell\u001b[39m\u001b[36m \u001b[39m\u001b[32mIn[5]\u001b[39m\u001b[32m, line 2\u001b[39m\n\u001b[32m      1\u001b[39m team_size = \u001b[32m12\u001b[39m\n\u001b[32m----> \u001b[39m\u001b[32m2\u001b[39m ideal_point = np.array([\u001b[32m300\u001b[39m, \u001b[32m140\u001b[39m, np.median(\u001b[43mobjectives\u001b[49m\u001b[43m[\u001b[49m\u001b[32;43m2\u001b[39;49m\u001b[43m]\u001b[49m) * team_size])\n\u001b[32m      3\u001b[39m training_length = \u001b[32m40\u001b[39m\n\u001b[32m      4\u001b[39m pop_size = \u001b[32m250\u001b[39m\n",
      "\u001b[31mIndexError\u001b[39m: list index out of range"
     ]
    }
   ],
   "source": [
    "team_size = 12\n",
    "ideal_point = np.array([300, 140, np.median(objectives[2]) * team_size])\n",
    "training_length = 40\n",
    "pop_size = 250\n",
    "\n",
    "population = Sample(np.ones(len(weights)) / len(weights), pop_size, team_size)\n",
    "counter = Counter()\n",
    "\n",
    "for i in range(training_length):\n",
    "    distribution, fit_pop = adjustDistribution(population, ideal_point, objectives, counter)\n",
    "    population = Sample(distribution, pop_size, team_size)\n",
    "    if len(fit_pop) != 0:\n",
    "        population = np.vstack((population, fit_pop))\n",
    "indices = np.argsort([val for val in [calculateFitness(individual, ideal_point, objectives) for individual in population]])\n",
    "best_solution = population[indices][-1]\n",
    "\n",
    "length = len(ideal_point)\n",
    "val_arr = np.zeros(length)\n",
    "for i in range(length):\n",
    "    val_arr[i] = calculateValue(best_solution, objectives[i])\n",
    "cos_theta = np.dot(val_arr, ideal_point) / (np.linalg.norm(val_arr) * np.linalg.norm(ideal_point))\n",
    "print(f\"Cos(theta) = {cos_theta}\")\n",
    " \n",
    "individual = np.sort(best_solution)\n",
    "print(f\"Team: {individual}\")\n",
    "print(f\"Value of objective 1: {calculateValue(individual, objectives[0])}\")\n",
    "print(f\"Value of objective 2: {calculateValue(individual, objectives[1])}\")\n"
   ]
  },
  {
   "cell_type": "markdown",
   "id": "a2ae0fee",
   "metadata": {},
   "source": [
    "Cos(theta) = 0.9999859421360815\n",
    "Team: [  0   1   2   3   6  42  45  46  78  83 132 264]\n",
    "Value of objective 1: 276.1846472082825\n",
    "Value of objective 2: 129.21818549915162"
   ]
  }
 ],
 "metadata": {
  "kernelspec": {
   "display_name": "Python 3",
   "language": "python",
   "name": "python3"
  },
  "language_info": {
   "codemirror_mode": {
    "name": "ipython",
    "version": 3
   },
   "file_extension": ".py",
   "mimetype": "text/x-python",
   "name": "python",
   "nbconvert_exporter": "python",
   "pygments_lexer": "ipython3",
   "version": "3.11.9"
  }
 },
 "nbformat": 4,
 "nbformat_minor": 5
}
