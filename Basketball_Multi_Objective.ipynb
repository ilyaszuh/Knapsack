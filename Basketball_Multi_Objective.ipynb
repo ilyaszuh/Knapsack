{
 "cells": [
  {
   "cell_type": "code",
   "execution_count": 69,
   "id": "d92eb021",
   "metadata": {},
   "outputs": [
    {
     "name": "stdout",
     "output_type": "stream",
     "text": [
      "[5.1 5.8 7.1 8.2 8.6 5.2 8.6 7.3 6.9 4.9 5.2 4.7 6.4 8.4 5.9 6.1 4.8 5.6\n",
      " 6.6 5.6 5.9 4.7 5.8 4.8 3.8 5.3 5.2 7.2 5.3 5.  7.3 4.6 8.2 7.2 4.  7.5\n",
      " 4.6 5.6 5.3 6.1 5.  6.3 6.2 6.1 3.  6.8 3.3 4.5 4.1 3.5 3.9 6.3 4.1 4.1\n",
      " 2.6 6.7 3.3 4.4 3.8 3.1 3.8 4.1 3.3 3.3 4.9 5.7 3.4 3.9 3.7 3.8 3.5 4.3\n",
      " 5.2 3.5 5.8 3.4 3.3 3.7 5.2 1.6 3.4 3.8 2.1 4.9 4.3 4.6 5.2 3.4 3.3 3.2\n",
      " 1.9 4.  4.5 4.1 2.7 1.8 1.7 3.2 3.6 2.9 2.3 2.8 4.4 3.3 4.3 2.5 2.7 4.6\n",
      " 1.1 2.3 3.2 2.9 3.9 2.7 3.6 3.3 4.  2.5 2.2 4.4 4.  4.4 2.1 2.3 3.7 2.1\n",
      " 1.9 3.5 2.4 1.9 1.9 3.  3.7 2.8 2.5 2.8 2.  2.2 2.6 2.7 2.2 1.9 3.  3.7\n",
      " 1.4 3.3 2.  3.4 2.7 2.4 2.8 3.8 2.6 1.7 2.6 2.5 2.8 2.7 3.2 3.5 3.6 2.8\n",
      " 2.9 2.7 1.4 3.1 1.8 2.4 2.9 3.2 2.1 2.3 2.2 2.1 1.6 3.1 3.2 1.9 1.6 1.8\n",
      " 1.7 1.9 1.8 2.5 1.4 2.8 3.  2.3 1.  1.4 0.9 2.6 1.8 2.8 1.2 1.3 1.2 3.2\n",
      " 1.8 2.4 3.1 1.7 3.  2.9 2.9 1.9 2.7 1.3 1.9 1.2 2.7 1.2 1.3 1.6 1.9 2.3\n",
      " 2.  1.9 2.1 2.4 2.6 2.7 1.1 2.  1.5 1.6 0.9 1.4 1.8 1.  2.5 1.5 2.3 1.2\n",
      " 2.2 1.4 2.  1.3 1.6 2.  1.2 0.7 1.1 1.7 2.1 0.8 1.2 2.3 2.5 2.5 1.1 0.4\n",
      " 1.  1.7 1.6 1.4 1.5 1.9 1.5 1.3 1.6 1.6 1.5 1.6 1.1 0.7 1.  1.8 1.8 1.\n",
      " 1.7 1.2 0.5 1.1 1.4 0.6 1.2 1.3 0.7 0.9 1.2 1.3 1.8 0.9 1.1 1.3 1.3 1.\n",
      " 0.9 1.5 0.6 1.5 1.  1.4 1.1 1.  0.9 1.3 0.8 0.6 1.1 1.4 1.  0.5 0.5 0.6\n",
      " 1.  0.2 1.1 1.2 0.9 0.5 0.5 1.  0.9 0.8 0.5 0.6 0.2 0.7 0.7 0.5 0.6 0.1\n",
      " 0.2 0.9 1.  0.8 0.3 0.9 0.7 0.5 0.5 0.5 0.6 0.2 0.2 0.4 0.4 0.6 0.4 0.3\n",
      " 0.2 0.2 0.1]\n"
     ]
    }
   ],
   "source": [
    "import numpy as np\n",
    "import pandas as pd\n",
    "from collections import Counter\n",
    "from Data import load_data\n",
    "\n",
    "rng = np.random.default_rng(42)\n",
    "\n",
    "players, obj1, obj2, obj3, obj4, obj5, weights = load_data(\"./nbasalariespoints.csv\", \"Player\", \"PS/G▼\", \"FT\", \"STL\", \"3P\", \"2P\", \"SALARY\")\n",
    "print(obj5)"
   ]
  },
  {
   "cell_type": "code",
   "execution_count": 70,
   "id": "12a969ce",
   "metadata": {},
   "outputs": [],
   "source": [
    "# Create a population of num_teams x team_size, with random values from 0-last index\n",
    "# Each individual represents a team, and each team has 15 players\n",
    "def initializePopulation(num_teams, team_size, max_index):\n",
    "    return rng.integers(0, max_index, (num_teams, team_size), dtype=int)\n",
    "\n",
    "def calculateValue(individual, obj):\n",
    "    return np.sum(obj[individual])\n",
    "\n",
    "def calculateWeight(individual, weights):\n",
    "    return np.sum(weights[individual])\n",
    "\n",
    "# Sets the fitness to -inf if the weight exceeds the knapsack capacity, or if there are duplicate players (can't draft the same player twice)\n",
    "# Otherwise, sets the fitness to the value of the team\n",
    "# Since there is a limit on how many players can be in each team, don't use value to weight ratio as the fitness\n",
    "def calculateFitness(individual, weights, capacity, epsilon, primary, objectives):\n",
    "    indevidual_weight = calculateWeight(individual, weights)\n",
    "    count = Counter(individual)\n",
    "\n",
    "    fitness_list = []\n",
    "    for i in range(len(objectives)):\n",
    "        if calculateValue(individual, objectives[i]) < epsilon[i]:\n",
    "            fitness_list.append(-np.inf)\n",
    "    if (indevidual_weight > capacity) or np.any(np.array(fitness_list) == -np.inf): \n",
    "        fitness = -np.inf\n",
    "    else:\n",
    "        fitness = calculateValue(individual, primary)\n",
    "\n",
    "    # Can't choose the same player twice\n",
    "    for i in range(len(individual)):\n",
    "        if count[individual[i]] > 1: \n",
    "            fitness = -np.inf\n",
    "            break\n",
    "    return fitness\n",
    "\n",
    "# Selects the two best as the parents\n",
    "def selectParents(capacity, weights, population, epsilon, primary, objectives):\n",
    "    fitness = []\n",
    "    for individual in population:\n",
    "        fitness.append(calculateFitness(individual, weights, capacity, epsilon, primary, objectives))\n",
    "\n",
    "    fitness = np.array(fitness)\n",
    "    top_indices = np.argsort(fitness)[-3:] \n",
    "    return [population[top_indices[0]], population[top_indices[1]], population[top_indices[2]]]\n",
    "\n",
    "# Generates a population of the same size as the initial population\n",
    "# Selects each gene randomly from one of the parents\n",
    "def generatePopulation(parents, pop_size, team_size, length, mutation_rate=.1):\n",
    "    population = np.zeros((pop_size, team_size), dtype=int)\n",
    "    population[0], population[1], population[2] = parents\n",
    "\n",
    "    for i in range(3, pop_size):\n",
    "        for j in range(team_size):\n",
    "            parent_choice = rng.integers(0, 3)\n",
    "            population[i][j] = parents[parent_choice][j]\n",
    "            \n",
    "            # Mutation\n",
    "            if rng.random() < mutation_rate:\n",
    "                population[i][j] = rng.integers(0, length)\n",
    "    return population\n",
    "\n",
    "\n",
    "# Creates an initial population\n",
    "# Saves the mean value for the population in each training iteration to plot\n",
    "# Finds to two best as parents\n",
    "# Creates a new population using the parents\n",
    "# Saves only the valid solutions in the final population and returns the one with the highest value\n",
    "def knapSackGenetic(capacity, weights, training_length, pop_size, team_size, epsilon, primary, objectives):\n",
    "    max_index = len(weights) - 1\n",
    "    parents_list = []\n",
    "    population = initializePopulation(pop_size, team_size, max_index)\n",
    "\n",
    "    for i in range(training_length):\n",
    "        parents = selectParents(capacity, weights, population, epsilon, primary, objectives)\n",
    "        parents_list.append(parents)\n",
    "        population = generatePopulation(parents, pop_size, team_size, max_index)\n",
    "    \n",
    "    valid = []\n",
    "    for individual in population:\n",
    "        if calculateFitness(individual, weights, capacity, epsilon, primary, objectives) == -np.inf: continue\n",
    "        valid.append(individual)\n",
    "\n",
    "    valid = np.array(valid)\n",
    "    print(f\"Length of valid: {len(valid)}\")\n",
    "    if len(valid) == 0:\n",
    "        '''\n",
    "        for i in range(len(parents_list) - 1, 0, -1):\n",
    "            for j in range(len(parents_list[0]) - 1):\n",
    "                if calculateFitness(parents_list[i][j], weights, capacity, epsilon, primary, objectives) != -np.inf:\n",
    "                    valid[0] = parents_list[i][j]\n",
    "                    break\n",
    "        '''\n",
    "        return -1   \n",
    "    indices = np.argsort([val for val in [calculateValue(ind, primary) for ind in valid]])\n",
    "    return valid[indices[-1]]\n"
   ]
  },
  {
   "cell_type": "code",
   "execution_count": 71,
   "id": "8f6d2bc4",
   "metadata": {},
   "outputs": [
    {
     "name": "stdout",
     "output_type": "stream",
     "text": [
      "Length of valid: 223\n",
      "Weight: 143,162,546\n",
      "Best Solution: [ 0  2  3  4  5  6  7 14 17 18 30 32 35 39 45]\n",
      "Primary (2P): 104.1\n",
      "Secondary 1 (FT): 65.6\n",
      "Secondary 2 (Steals): 17.9\n",
      "Secondary 3 (3P): 19.999999999999996\n",
      "Secondary 4 (Points): 333.2\n"
     ]
    }
   ],
   "source": [
    "epsilon = [50, 15, 20, 250]\n",
    "capacity = 150_000_000\n",
    "training_length = 1000\n",
    "pop_size = 500\n",
    "team_size = 15\n",
    "individual = knapSackGenetic(capacity, weights, training_length, pop_size, team_size, epsilon, obj5, [obj2, obj3, obj4, obj1])\n",
    "\n",
    "if np.any(individual != -1):\n",
    "    individual = np.sort(individual)\n",
    "    print(f\"Weight: {calculateWeight(individual, weights):,}\")\n",
    "    print(f\"Best Solution: {individual}\")\n",
    "    print(f\"Primary (2P): {calculateValue(individual, obj5)}\")\n",
    "    print(f\"Secondary 1 (FT): {calculateValue(individual, obj2)}\")\n",
    "    print(f\"Secondary 2 (Steals): {calculateValue(individual, obj3)}\")\n",
    "    print(f\"Secondary 3 (3P): {calculateValue(individual, obj4)}\")\n",
    "    print(f\"Secondary 4 (Points): {calculateValue(individual, obj1)}\")\n"
   ]
  },
  {
   "cell_type": "code",
   "execution_count": 72,
   "id": "a4e6675c",
   "metadata": {},
   "outputs": [
    {
     "name": "stdout",
     "output_type": "stream",
     "text": [
      "[8.6 8.6 8.4 8.2 8.2 7.5 7.3 7.3 7.2 7.2 7.1 6.9 6.8 6.7 6.6 6.4 6.3 6.3\n",
      " 6.2 6.1 6.1 6.1 5.9 5.9 5.8 5.8 5.8 5.7 5.6 5.6 5.6 5.3 5.3 5.3 5.2 5.2\n",
      " 5.2 5.2 5.2 5.2 5.1 5.  5.  4.9 4.9 4.9 4.8 4.8 4.7 4.7 4.6 4.6 4.6 4.6\n",
      " 4.5 4.5 4.4 4.4 4.4 4.4 4.3 4.3 4.3 4.1 4.1 4.1 4.1 4.1 4.  4.  4.  4.\n",
      " 3.9 3.9 3.9 3.8 3.8 3.8 3.8 3.8 3.8 3.7 3.7 3.7 3.7 3.7 3.6 3.6 3.6 3.5\n",
      " 3.5 3.5 3.5 3.5 3.4 3.4 3.4 3.4 3.4 3.3 3.3 3.3 3.3 3.3 3.3 3.3 3.3 3.3\n",
      " 3.2 3.2 3.2 3.2 3.2 3.2 3.2 3.1 3.1 3.1 3.1 3.  3.  3.  3.  3.  2.9 2.9\n",
      " 2.9 2.9 2.9 2.9 2.8 2.8 2.8 2.8 2.8 2.8 2.8 2.8 2.7 2.7 2.7 2.7 2.7 2.7\n",
      " 2.7 2.7 2.7 2.7 2.6 2.6 2.6 2.6 2.6 2.6 2.5 2.5 2.5 2.5 2.5 2.5 2.5 2.5\n",
      " 2.4 2.4 2.4 2.4 2.4 2.3 2.3 2.3 2.3 2.3 2.3 2.3 2.3 2.2 2.2 2.2 2.2 2.2\n",
      " 2.1 2.1 2.1 2.1 2.1 2.1 2.1 2.  2.  2.  2.  2.  2.  1.9 1.9 1.9 1.9 1.9\n",
      " 1.9 1.9 1.9 1.9 1.9 1.9 1.9 1.8 1.8 1.8 1.8 1.8 1.8 1.8 1.8 1.8 1.8 1.7\n",
      " 1.7 1.7 1.7 1.7 1.7 1.7 1.6 1.6 1.6 1.6 1.6 1.6 1.6 1.6 1.6 1.6 1.5 1.5\n",
      " 1.5 1.5 1.5 1.5 1.5 1.4 1.4 1.4 1.4 1.4 1.4 1.4 1.4 1.4 1.4 1.3 1.3 1.3\n",
      " 1.3 1.3 1.3 1.3 1.3 1.3 1.3 1.2 1.2 1.2 1.2 1.2 1.2 1.2 1.2 1.2 1.2 1.2\n",
      " 1.1 1.1 1.1 1.1 1.1 1.1 1.1 1.1 1.1 1.1 1.  1.  1.  1.  1.  1.  1.  1.\n",
      " 1.  1.  1.  1.  0.9 0.9 0.9 0.9 0.9 0.9 0.9 0.9 0.9 0.9 0.8 0.8 0.8 0.8\n",
      " 0.7 0.7 0.7 0.7 0.7 0.7 0.6 0.6 0.6 0.6 0.6 0.6 0.6 0.6 0.5 0.5 0.5 0.5\n",
      " 0.5 0.5 0.5 0.5 0.5 0.5 0.4 0.4 0.4 0.4 0.3 0.3 0.2 0.2 0.2 0.2 0.2 0.2\n",
      " 0.2 0.1 0.1]\n",
      "112.6\n"
     ]
    }
   ],
   "source": [
    "350\n",
    "77\n",
    "18\n",
    "27\n",
    "95\n",
    "ordered = np.sort(obj5)[::-1]\n",
    "print(ordered)\n",
    "print(np.sum(ordered[0:15]))"
   ]
  },
  {
   "cell_type": "code",
   "execution_count": 73,
   "id": "b7feae22",
   "metadata": {},
   "outputs": [
    {
     "ename": "NameError",
     "evalue": "name 'vals' is not defined",
     "output_type": "error",
     "traceback": [
      "\u001b[0;31m---------------------------------------------------------------------------\u001b[0m",
      "\u001b[0;31mNameError\u001b[0m                                 Traceback (most recent call last)",
      "Cell \u001b[0;32mIn[73], line 5\u001b[0m\n\u001b[1;32m      3\u001b[0m fig \u001b[38;5;241m=\u001b[39m plt\u001b[38;5;241m.\u001b[39mfigure(figsize\u001b[38;5;241m=\u001b[39m(\u001b[38;5;241m4\u001b[39m, \u001b[38;5;241m3\u001b[39m))\n\u001b[1;32m      4\u001b[0m ax \u001b[38;5;241m=\u001b[39m fig\u001b[38;5;241m.\u001b[39madd_axes([\u001b[38;5;241m0\u001b[39m, \u001b[38;5;241m0\u001b[39m, \u001b[38;5;241m1\u001b[39m, \u001b[38;5;241m1\u001b[39m])\n\u001b[0;32m----> 5\u001b[0m ax\u001b[38;5;241m.\u001b[39mplot(vals)\n\u001b[1;32m      6\u001b[0m ax\u001b[38;5;241m.\u001b[39mgrid(\u001b[38;5;28;01mTrue\u001b[39;00m)\n\u001b[1;32m      7\u001b[0m ax\u001b[38;5;241m.\u001b[39mset_xticks(np\u001b[38;5;241m.\u001b[39marange(\u001b[38;5;241m0\u001b[39m, \u001b[38;5;28mlen\u001b[39m(vals) \u001b[38;5;241m+\u001b[39m \u001b[38;5;241m1\u001b[39m, \u001b[38;5;241m25\u001b[39m))\n",
      "\u001b[0;31mNameError\u001b[0m: name 'vals' is not defined"
     ]
    },
    {
     "data": {
      "image/png": "[encoded data removed]",
      "text/plain": [
       "<Figure size 400x300 with 1 Axes>"
      ]
     },
     "metadata": {},
     "output_type": "display_data"
    }
   ],
   "source": [
    "import matplotlib.pyplot as plt\n",
    "\n",
    "fig = plt.figure(figsize=(4, 3))\n",
    "ax = fig.add_axes([0, 0, 1, 1])\n",
    "ax.plot(vals)\n",
    "ax.grid(True)\n",
    "ax.set_xticks(np.arange(0, len(vals) + 1, 25))\n",
    "ax.set_yticks(np.arange(100, 400, 25))\n",
    "ax.set_title(\"Points Increase Across Generations\")\n",
    "ax.set_ylabel(\"Total Points\")\n",
    "ax.set_xlabel(\"Generation Number\")\n",
    "plt.show()\n",
    "print(f\"Starting Value: {vals[0]}\")\n",
    "print(f\"Ending Value: {vals[-1]}\")\n",
    "print(f\"Max value: {np.max(vals)}\")\n",
    "\n"
   ]
  },
  {
   "cell_type": "code",
   "execution_count": null,
   "id": "673c3fbe",
   "metadata": {},
   "outputs": [],
   "source": []
  }
 ],
 "metadata": {
  "kernelspec": {
   "display_name": "Python 3",
   "language": "python",
   "name": "python3"
  },
  "language_info": {
   "codemirror_mode": {
    "name": "ipython",
    "version": 3
   },
   "file_extension": ".py",
   "mimetype": "text/x-python",
   "name": "python",
   "nbconvert_exporter": "python",
   "pygments_lexer": "ipython3",
   "version": "3.11.9"
  }
 },
 "nbformat": 4,
 "nbformat_minor": 5
}
