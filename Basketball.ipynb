{
 "cells": [
  {
   "cell_type": "code",
   "execution_count": 1,
   "id": "d92eb021",
   "metadata": {},
   "outputs": [],
   "source": [
    "import pandas as pd\n",
    "import numpy as np\n",
    "from collections import Counter\n",
    "rng = np.random.default_rng(117)\n",
    "\n",
    "# Read data and get only player names, points per game, and salaries\n",
    "data = pd.read_csv(\"./nbasalariespoints.csv\")\n",
    "data = data[[\"Player\", \"PS/G▼\", \"SALARY\"]]\n",
    "data = data.dropna()\n",
    "\n",
    "data[\"PS/G▼\"] = data[\"PS/G▼\"].astype(int)\n",
    "data[\"SALARY\"] = data[\"SALARY\"].str.replace(r\"[$,]\", \"\", regex=True).str.strip()\n",
    "data[\"SALARY\"] = pd.to_numeric(data[\"SALARY\"])\n",
    "\n",
    "#data[\"SALARY\"] /= 1_000_000\n",
    "#data[\"SALARY\"] = data[\"SALARY\"].round().astype(int)\n",
    "data = data[data[\"SALARY\"] != 0]\n",
    "data = data[data[\"PS/G▼\"] != 0]"
   ]
  },
  {
   "cell_type": "code",
   "execution_count": 2,
   "id": "12a969ce",
   "metadata": {},
   "outputs": [],
   "source": [
    "def initializePopulation(size_of_pop, team_size, length):\n",
    "    return rng.integers(0, length, (size_of_pop, team_size), dtype=int)\n",
    "\n",
    "def calculateValue(individual, values):\n",
    "    return np.sum(values[individual])\n",
    "\n",
    "def calculateWeight(individual, weights):\n",
    "    return np.sum(weights[individual])\n",
    "\n",
    "def calculateFitness(individual, weights, values, capacity):\n",
    "    indevidual_weight = calculateWeight(individual, weights)\n",
    "    count = Counter(individual)\n",
    "    fitness = calculateValue(individual, values) if indevidual_weight <= capacity else -np.inf\n",
    "    for i in range(len(individual)):\n",
    "        if count[individual[i]] > 1: \n",
    "            fitness = -np.inf\n",
    "            break\n",
    "    return fitness\n",
    "\n",
    "def selectParents(capacity, weights, values, population):\n",
    "    fitness = []\n",
    "    for individual in population:\n",
    "        fitness.append(calculateFitness(individual, weights, values, capacity))\n",
    "\n",
    "    fitness = np.array(fitness)\n",
    "    top_indices = np.argsort(fitness)[-2:] \n",
    "    return [population[top_indices[0]], population[top_indices[1]]]\n",
    "\n",
    "def generatePopulation(parents, size_of_pop, mutation_rate, length):\n",
    "    num_genes = len(parents[0])\n",
    "    population = np.zeros((size_of_pop, num_genes), dtype=int)\n",
    "    population[0], population[1] = parents\n",
    "\n",
    "    for i in range(2, size_of_pop):\n",
    "        for j in range(num_genes):\n",
    "            parent_choice = rng.integers(0, 2)\n",
    "            population[i][j] = parents[parent_choice][j]\n",
    "            \n",
    "            # Mutation\n",
    "            if rng.random() < mutation_rate:\n",
    "                population[i][j] = rng.integers(0, length)\n",
    "    return population\n",
    "\n",
    "\n",
    "# Saving an invalid solution in the valid list\n",
    "def knapSackGenetic(capacity, weights, values, training_length, pop_size, team_size):\n",
    "    length = len(weights) - 1\n",
    "    population = initializePopulation(pop_size, team_size, length)\n",
    "\n",
    "    for i in range(training_length):\n",
    "        parents = selectParents(capacity, weights, values, population)\n",
    "        population = generatePopulation(parents, pop_size, .01, length)\n",
    "    \n",
    "    valid = []\n",
    "    for individual in population:\n",
    "        if calculateFitness(individual, weights, values, capacity) == -np.inf: continue\n",
    "        valid.append(individual)\n",
    "\n",
    "    valid = np.array(valid)\n",
    "    indices = np.argsort([val for val in [calculateValue(ind, values) for ind in valid]])\n",
    "    \n",
    "    return individual\n"
   ]
  },
  {
   "cell_type": "code",
   "execution_count": 4,
   "id": "8f6d2bc4",
   "metadata": {},
   "outputs": [
    {
     "name": "stdout",
     "output_type": "stream",
     "text": [
      "Best Solution: [ 8  6 16 36 10  2 17 29  3  1  5 18 30  0  7]\n",
      "Value: 343 | Weight: 148,167,348\n",
      "\n"
     ]
    }
   ],
   "source": [
    "weights = np.array(data[\"SALARY\"].tolist())\n",
    "values = np.array(data[\"PS/G▼\"].tolist())\n",
    "\n",
    "capacity = 150_000_000\n",
    "training_length = 1000\n",
    "pop_size = 100\n",
    "team_size = 15\n",
    "\n",
    "individual = knapSackGenetic(capacity, weights, values, training_length, pop_size, team_size)\n",
    "\n",
    "print(f\"Best Solution: {individual}\")\n",
    "print(f\"Value: {calculateValue(individual, values)} | Weight: {calculateWeight(individual, weights):,}\\n\")"
   ]
  },
  {
   "cell_type": "code",
   "execution_count": null,
   "id": "b7feae22",
   "metadata": {},
   "outputs": [],
   "source": []
  }
 ],
 "metadata": {
  "kernelspec": {
   "display_name": "Python 3",
   "language": "python",
   "name": "python3"
  },
  "language_info": {
   "codemirror_mode": {
    "name": "ipython",
    "version": 3
   },
   "file_extension": ".py",
   "mimetype": "text/x-python",
   "name": "python",
   "nbconvert_exporter": "python",
   "pygments_lexer": "ipython3",
   "version": "3.11.9"
  }
 },
 "nbformat": 4,
 "nbformat_minor": 5
}
