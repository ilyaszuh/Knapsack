{
 "cells": [
  {
   "cell_type": "code",
   "execution_count": 944,
   "metadata": {},
   "outputs": [],
   "source": [
    "import numpy as np\n",
    "import seaborn as sns\n",
    "from matplotlib import pyplot as plt\n",
    "import pandas as pd\n",
    "from scipy import stats\n",
    "import os"
   ]
  },
  {
   "cell_type": "code",
   "execution_count": 945,
   "metadata": {},
   "outputs": [],
   "source": [
    "r = np.array([      # three variables: 2 objectives, 1 constraints\n",
    "    [1.0, -0.32, 0.15], # Rebounds\n",
    "    [-0.32, 1.0, 0.26], # Assists\n",
    "    [0.15, 0.26, 1.0],  # Salary\n",
    "])\n",
    "    # Rebounds, Assists, Salary\n",
    "\n",
    "n = 100_000\n",
    "shape, scale = np.array([5.5408, 2.9772, 1.1701]), np.array([1.1467, 1.1295, 5157057.6371])"
   ]
  },
  {
   "cell_type": "code",
   "execution_count": 946,
   "metadata": {},
   "outputs": [],
   "source": [
    "def make_pos_def(corr):\n",
    "    eigvals, eigvecs = np.linalg.eigh(corr)\n",
    "    eigvals[eigvals < 1e-8] = 1e-8  \n",
    "    corr_pd = eigvecs @ np.diag(eigvals) @ eigvecs.T\n",
    "\n",
    "    # normalize diagonal to 1\n",
    "    d = np.sqrt(np.diag(corr_pd))\n",
    "    corr_pd = corr_pd / d[:, None] / d[None, :]\n",
    "    return corr_pd\n",
    "r_psd = make_pos_def(r)"
   ]
  },
  {
   "cell_type": "code",
   "execution_count": 947,
   "metadata": {},
   "outputs": [
    {
     "data": {
      "text/plain": [
       "array([[ 1.  , -0.32,  0.15],\n",
       "       [-0.32,  1.  ,  0.26],\n",
       "       [ 0.15,  0.26,  1.  ]])"
      ]
     },
     "execution_count": 947,
     "metadata": {},
     "output_type": "execute_result"
    }
   ],
   "source": [
    "r_psd"
   ]
  },
  {
   "cell_type": "code",
   "execution_count": 948,
   "metadata": {},
   "outputs": [],
   "source": [
    "mean = np.zeros(np.shape(r_psd)[0])\n",
    "z = np.random.multivariate_normal(mean, r_psd, size=n)\n",
    "u = stats.norm.cdf(z)\n"
   ]
  },
  {
   "cell_type": "code",
   "execution_count": 949,
   "metadata": {},
   "outputs": [],
   "source": [
    "samples = np.zeros_like(u)\n",
    "for i in range(u.shape[1]):\n",
    "    samples[:, i] = stats.gamma.ppf(u[:, i], a=shape[i], scale=scale[i])"
   ]
  },
  {
   "cell_type": "code",
   "execution_count": 950,
   "metadata": {},
   "outputs": [],
   "source": [
    "def transform_to_z(X, alpha, beta):\n",
    "    n_samples, d = X.shape\n",
    "    scales = 1.0 / beta\n",
    "    U = np.zeros_like(X, dtype=float)\n",
    "    for j in range(d):\n",
    "        U[:, j] = stats.gamma.cdf(X[:, j], a=alpha[j], scale=scales[j])\n",
    "    U = np.clip(U, 1e-12, 1 - 1e-12)\n",
    "    Z = np.zeros_like(U, dtype=float)\n",
    "    for j in range(d):\n",
    "        Z[:, j] = stats.norm.ppf(U[:, j])\n",
    "    return Z\n",
    "\n",
    "def estimate_covariance(Z_list):\n",
    "    \"\"\"\n",
    "    Estimate the (N*d x N*d) covariance and correlation.\n",
    "    \"\"\"\n",
    "    Z_stacked = np.vstack([Z.ravel() for Z in Z_list])\n",
    "    sigma = np.cov(Z_stacked, rowvar=False)\n",
    "    R = np.corrcoef(Z_stacked, rowvar=False)\n",
    "    \n",
    "    return sigma, R\n"
   ]
  },
  {
   "cell_type": "code",
   "execution_count": null,
   "metadata": {},
   "outputs": [],
   "source": []
  },
  {
   "cell_type": "code",
   "execution_count": 951,
   "metadata": {},
   "outputs": [
    {
     "data": {
      "image/png": "[encoded data removed]",
      "text/plain": [
       "<Figure size 1000x600 with 1 Axes>"
      ]
     },
     "metadata": {},
     "output_type": "display_data"
    }
   ],
   "source": [
    "n_dims = samples.shape[1]\n",
    "names = [\"Rebounds\", \"Assists\", \"Salary\"]\n",
    "\n",
    "plt.figure(figsize=(10, 6))\n",
    "for i in range(n_dims - 1):\n",
    "    plt.hist(samples[:, i], bins=100, density=True, alpha=0.5, label=names[i])\n",
    "\n",
    "# Plot salary\n",
    "plt.title(\"Multivariate Distribution\")\n",
    "plt.xlabel(\"Value\")\n",
    "plt.ylabel(\"Density\")\n",
    "plt.xlim(0, 25)\n",
    "plt.legend()\n",
    "plt.grid(True)\n",
    "plt.show()"
   ]
  },
  {
   "cell_type": "code",
   "execution_count": 952,
   "metadata": {},
   "outputs": [],
   "source": [
    "expected_values = [a * b for a, b in zip(shape, scale)]"
   ]
  },
  {
   "cell_type": "code",
   "execution_count": 953,
   "metadata": {},
   "outputs": [],
   "source": [
    "# generate data\n",
    "def generate_knapsack_data(samples, shape, scale,         \n",
    "                           n_items=10, max_trials=1000, exp_n_selected=5, trial_needed=100):\n",
    "\n",
    "    # create column names (list)\n",
    "    columns = (\n",
    "        ['Player Number'] +\n",
    "        [\"Rebounds\"] +\n",
    "        ['Assists'] +\n",
    "        [\"Salary\"] \n",
    "    )\n",
    "\n",
    "    # create df with 0's\n",
    "    df = pd.DataFrame(None, index=range(max_trials), columns=columns)\n",
    "\n",
    "    valid_trials = 0\n",
    "    trial_i = 0\n",
    "    cursor = 0\n",
    "    \n",
    "    while True:\n",
    "        if valid_trials >= trial_needed:\n",
    "            print(f\"Done: built {valid_trials} trials (needed {trial_needed}).\")\n",
    "            break\n",
    "\n",
    "        if trial_i >= max_trials:\n",
    "            print(f\"ERROR: exceeded max_trials ({max_trials}). Built {valid_trials} trials.\")\n",
    "            break\n",
    "\n",
    "        if cursor >= samples.shape[0]:\n",
    "            print(f\"ERROR: ran out of samples at cursor={cursor} (N={samples.shape[0]}). \"\n",
    "                f\"Built {valid_trials} trials; attempted {trial_i} trials.\")\n",
    "            break\n",
    "    \n",
    "        # obtain unique objective and constraint values for the trial\n",
    "        values = np.empty((n_items, 3), dtype=int)\n",
    "        seen_obj = set()\n",
    "        seen_con = set()\n",
    "        item = 0\n",
    "        while item < n_items:\n",
    "            if cursor >= samples.shape[0]:\n",
    "                print(f\"ERROR: ran out of samples while filling trial {trial_i+1} \"\n",
    "                    f\"(filled {item}/{n_items}).\")\n",
    "                break\n",
    "            \n",
    "            row = samples[cursor, :]\n",
    "            cursor += 1\n",
    "            obj = tuple(row[:3])\n",
    "\n",
    "            if obj in seen_obj:\n",
    "                continue\n",
    "\n",
    "            seen_obj.add(obj)\n",
    "            values[item, :]  = obj\n",
    "            item += 1\n",
    "\n",
    "        # obtain capacities for the trial\n",
    "        # expected number of items selected: exp_n_selected\n",
    "        cp1 = stats.gamma.rvs(a=shape[2], scale=scale[2], size=1)[0] # can sample out of the loop\n",
    "        #cp2 = stats.gamma.rvs(a=shape[4], scale=scale[4], size=1)[0]\n",
    "        capacity1 = cp1 * exp_n_selected\n",
    "        #capacity2 = np.floor(cp2 * exp_n_selected).astype(int) \n",
    "\n",
    "        # check if capacity is zero\n",
    "        if capacity1 == 0: #  or capacity2 == 0\n",
    "            trial_i += 1\n",
    "            continue\n",
    "\n",
    "        # store data into df\n",
    "        df.loc[valid_trials, 'Player Number'] = valid_trials + 1\n",
    "        for i in range(n_items):\n",
    "            df.loc[valid_trials, \"Rebounds\"] = values[i, 0]\n",
    "            df.loc[valid_trials, \"Assists\"] = values[i, 1]\n",
    "            df.loc[valid_trials, \"Salary\"] = values[i, 2]\n",
    "    \n",
    "        valid_trials += 1\n",
    "        trial_i += 1\n",
    "\n",
    "\n",
    "    df = df.iloc[:trial_needed].reset_index(drop=True)  \n",
    "\n",
    "\n",
    "    output_dir = \"./data\"\n",
    "    os.makedirs(output_dir, exist_ok=True)\n",
    "    output_path = os.path.join(output_dir, f'test_data_basketball.csv')\n",
    "    '''\n",
    "    if os.path.exists(output_path):\n",
    "        print(f\"File {output_path} already exists\")\n",
    "    else:\n",
    "        df.to_csv(output_path, index=False)\n",
    "        print(f\"File {output_path} created successfully\")\n",
    "    '''\n",
    "    df.to_csv(output_path, index=False)"
   ]
  },
  {
   "cell_type": "code",
   "execution_count": 954,
   "metadata": {},
   "outputs": [
    {
     "name": "stdout",
     "output_type": "stream",
     "text": [
      "Done: built 200 trials (needed 200).\n"
     ]
    }
   ],
   "source": [
    "generate_knapsack_data(samples, shape, scale,\n",
    "                       n_items=20, max_trials=200, exp_n_selected=5, trial_needed=200)"
   ]
  },
  {
   "cell_type": "code",
   "execution_count": 955,
   "metadata": {},
   "outputs": [
    {
     "data": {
      "text/plain": [
       "array([[ 1.        , -0.29279763,  0.13941473],\n",
       "       [-0.29279763,  1.        ,  0.23880319],\n",
       "       [ 0.13941473,  0.23880319,  1.        ]])"
      ]
     },
     "execution_count": 955,
     "metadata": {},
     "output_type": "execute_result"
    }
   ],
   "source": [
    "np.corrcoef(samples.T)"
   ]
  },
  {
   "cell_type": "code",
   "execution_count": null,
   "metadata": {},
   "outputs": [
    {
     "name": "stdout",
     "output_type": "stream",
     "text": [
      "5.0\n",
      "3.0\n",
      "6095714.0\n",
      "     Player Number  Rebounds  Assists    Salary\n",
      "0                1         2        5   6363652\n",
      "1                2         6        2   1118604\n",
      "2                3         4        3   9684935\n",
      "3                4         9        2   7054002\n",
      "4                5         2        5   2032020\n",
      "..             ...       ...      ...       ...\n",
      "195            196         8        1   6671291\n",
      "196            197         5        2  36355120\n",
      "197            198         5        1   1256634\n",
      "198            199         4        2   2543132\n",
      "199            200         4        6   7813677\n",
      "\n",
      "[200 rows x 4 columns]\n"
     ]
    }
   ],
   "source": [
    "n_items = 50\n",
    "df = pd.read_csv('./data/test_data_basketball.csv')\n",
    "\n",
    "print(np.median(df[\"Rebounds\"]))\n",
    "print(np.median(df[\"Assists\"]))\n",
    "print(np.median(df[\"Salary\"]))\n",
    "\n",
    "print(df)\n"
   ]
  },
  {
   "cell_type": "code",
   "execution_count": 957,
   "metadata": {},
   "outputs": [
    {
     "name": "stdout",
     "output_type": "stream",
     "text": [
      "R_hat: \n",
      "[[ 1.   -0.27  0.14]\n",
      " [-0.27  1.    0.27]\n",
      " [ 0.14  0.27  1.  ]]\n",
      "Original correlation matrix: \n",
      "[[ 1.   -0.32  0.15]\n",
      " [-0.32  1.    0.26]\n",
      " [ 0.15  0.26  1.  ]]\n"
     ]
    }
   ],
   "source": [
    "data = np.column_stack([df[\"Rebounds\"], df[\"Assists\"], df[\"Salary\"]])\n",
    "\n",
    "Z = transform_to_z(data, shape, 1 / scale)\n",
    "Sigma, R = estimate_covariance(Z)\n",
    "\n",
    "R_hat = R[0:3,0:3]\n",
    "R_hat = np.around(R_hat, 2)\n",
    "print(f\"R_hat: \\n{R_hat}\")\n",
    "\n",
    "print(f\"Original correlation matrix: \\n{r_psd}\")"
   ]
  },
  {
   "cell_type": "code",
   "execution_count": null,
   "metadata": {},
   "outputs": [],
   "source": []
  },
  {
   "cell_type": "code",
   "execution_count": 958,
   "metadata": {},
   "outputs": [
    {
     "ename": "KeyError",
     "evalue": "'value1_item_1'",
     "output_type": "error",
     "traceback": [
      "\u001b[0;31m---------------------------------------------------------------------------\u001b[0m",
      "\u001b[0;31mKeyError\u001b[0m                                  Traceback (most recent call last)",
      "File \u001b[0;32m/opt/anaconda3/lib/python3.13/site-packages/pandas/core/indexes/base.py:3805\u001b[0m, in \u001b[0;36mIndex.get_loc\u001b[0;34m(self, key)\u001b[0m\n\u001b[1;32m   3804\u001b[0m \u001b[38;5;28;01mtry\u001b[39;00m:\n\u001b[0;32m-> 3805\u001b[0m     \u001b[38;5;28;01mreturn\u001b[39;00m \u001b[38;5;28mself\u001b[39m\u001b[38;5;241m.\u001b[39m_engine\u001b[38;5;241m.\u001b[39mget_loc(casted_key)\n\u001b[1;32m   3806\u001b[0m \u001b[38;5;28;01mexcept\u001b[39;00m \u001b[38;5;167;01mKeyError\u001b[39;00m \u001b[38;5;28;01mas\u001b[39;00m err:\n",
      "File \u001b[0;32mindex.pyx:167\u001b[0m, in \u001b[0;36mpandas._libs.index.IndexEngine.get_loc\u001b[0;34m()\u001b[0m\n",
      "File \u001b[0;32mindex.pyx:196\u001b[0m, in \u001b[0;36mpandas._libs.index.IndexEngine.get_loc\u001b[0;34m()\u001b[0m\n",
      "File \u001b[0;32mpandas/_libs/hashtable_class_helper.pxi:7081\u001b[0m, in \u001b[0;36mpandas._libs.hashtable.PyObjectHashTable.get_item\u001b[0;34m()\u001b[0m\n",
      "File \u001b[0;32mpandas/_libs/hashtable_class_helper.pxi:7089\u001b[0m, in \u001b[0;36mpandas._libs.hashtable.PyObjectHashTable.get_item\u001b[0;34m()\u001b[0m\n",
      "\u001b[0;31mKeyError\u001b[0m: 'value1_item_1'",
      "\nThe above exception was the direct cause of the following exception:\n",
      "\u001b[0;31mKeyError\u001b[0m                                  Traceback (most recent call last)",
      "Cell \u001b[0;32mIn[958], line 9\u001b[0m\n\u001b[1;32m      5\u001b[0m trial_data \u001b[38;5;241m=\u001b[39m []\n\u001b[1;32m      6\u001b[0m \u001b[38;5;28;01mfor\u001b[39;00m item \u001b[38;5;129;01min\u001b[39;00m \u001b[38;5;28mrange\u001b[39m(\u001b[38;5;241m1\u001b[39m, n_items\u001b[38;5;241m+\u001b[39m\u001b[38;5;241m1\u001b[39m): \n\u001b[1;32m      7\u001b[0m     row \u001b[38;5;241m=\u001b[39m {\n\u001b[1;32m      8\u001b[0m         \u001b[38;5;124m'\u001b[39m\u001b[38;5;124mtrial_number\u001b[39m\u001b[38;5;124m'\u001b[39m: item,\n\u001b[0;32m----> 9\u001b[0m         \u001b[38;5;124m'\u001b[39m\u001b[38;5;124mRebounds\u001b[39m\u001b[38;5;124m'\u001b[39m: df[\u001b[38;5;124mf\u001b[39m\u001b[38;5;124m'\u001b[39m\u001b[38;5;124mvalue1_item_\u001b[39m\u001b[38;5;132;01m{\u001b[39;00mitem\u001b[38;5;132;01m}\u001b[39;00m\u001b[38;5;124m'\u001b[39m][trial],\n\u001b[1;32m     10\u001b[0m         \u001b[38;5;124m'\u001b[39m\u001b[38;5;124mAssists\u001b[39m\u001b[38;5;124m'\u001b[39m: df[\u001b[38;5;124mf\u001b[39m\u001b[38;5;124m'\u001b[39m\u001b[38;5;124mvalue2_item_\u001b[39m\u001b[38;5;132;01m{\u001b[39;00mitem\u001b[38;5;132;01m}\u001b[39;00m\u001b[38;5;124m'\u001b[39m][trial],\n\u001b[1;32m     11\u001b[0m         \u001b[38;5;124m'\u001b[39m\u001b[38;5;124mSalary\u001b[39m\u001b[38;5;124m'\u001b[39m: df[\u001b[38;5;124m'\u001b[39m\u001b[38;5;124mcapacity1\u001b[39m\u001b[38;5;124m'\u001b[39m][trial],\n\u001b[1;32m     12\u001b[0m     }\n\u001b[1;32m     13\u001b[0m     trial_data\u001b[38;5;241m.\u001b[39mappend(row)\n\u001b[1;32m     14\u001b[0m items_df_visual \u001b[38;5;241m=\u001b[39m pd\u001b[38;5;241m.\u001b[39mconcat([items_df_visual, pd\u001b[38;5;241m.\u001b[39mDataFrame(trial_data)], ignore_index\u001b[38;5;241m=\u001b[39m\u001b[38;5;28;01mTrue\u001b[39;00m) \u001b[38;5;66;03m## create a new sequential index\u001b[39;00m\n",
      "File \u001b[0;32m/opt/anaconda3/lib/python3.13/site-packages/pandas/core/frame.py:4102\u001b[0m, in \u001b[0;36mDataFrame.__getitem__\u001b[0;34m(self, key)\u001b[0m\n\u001b[1;32m   4100\u001b[0m \u001b[38;5;28;01mif\u001b[39;00m \u001b[38;5;28mself\u001b[39m\u001b[38;5;241m.\u001b[39mcolumns\u001b[38;5;241m.\u001b[39mnlevels \u001b[38;5;241m>\u001b[39m \u001b[38;5;241m1\u001b[39m:\n\u001b[1;32m   4101\u001b[0m     \u001b[38;5;28;01mreturn\u001b[39;00m \u001b[38;5;28mself\u001b[39m\u001b[38;5;241m.\u001b[39m_getitem_multilevel(key)\n\u001b[0;32m-> 4102\u001b[0m indexer \u001b[38;5;241m=\u001b[39m \u001b[38;5;28mself\u001b[39m\u001b[38;5;241m.\u001b[39mcolumns\u001b[38;5;241m.\u001b[39mget_loc(key)\n\u001b[1;32m   4103\u001b[0m \u001b[38;5;28;01mif\u001b[39;00m is_integer(indexer):\n\u001b[1;32m   4104\u001b[0m     indexer \u001b[38;5;241m=\u001b[39m [indexer]\n",
      "File \u001b[0;32m/opt/anaconda3/lib/python3.13/site-packages/pandas/core/indexes/base.py:3812\u001b[0m, in \u001b[0;36mIndex.get_loc\u001b[0;34m(self, key)\u001b[0m\n\u001b[1;32m   3807\u001b[0m     \u001b[38;5;28;01mif\u001b[39;00m \u001b[38;5;28misinstance\u001b[39m(casted_key, \u001b[38;5;28mslice\u001b[39m) \u001b[38;5;129;01mor\u001b[39;00m (\n\u001b[1;32m   3808\u001b[0m         \u001b[38;5;28misinstance\u001b[39m(casted_key, abc\u001b[38;5;241m.\u001b[39mIterable)\n\u001b[1;32m   3809\u001b[0m         \u001b[38;5;129;01mand\u001b[39;00m \u001b[38;5;28many\u001b[39m(\u001b[38;5;28misinstance\u001b[39m(x, \u001b[38;5;28mslice\u001b[39m) \u001b[38;5;28;01mfor\u001b[39;00m x \u001b[38;5;129;01min\u001b[39;00m casted_key)\n\u001b[1;32m   3810\u001b[0m     ):\n\u001b[1;32m   3811\u001b[0m         \u001b[38;5;28;01mraise\u001b[39;00m InvalidIndexError(key)\n\u001b[0;32m-> 3812\u001b[0m     \u001b[38;5;28;01mraise\u001b[39;00m \u001b[38;5;167;01mKeyError\u001b[39;00m(key) \u001b[38;5;28;01mfrom\u001b[39;00m\u001b[38;5;250m \u001b[39m\u001b[38;5;21;01merr\u001b[39;00m\n\u001b[1;32m   3813\u001b[0m \u001b[38;5;28;01mexcept\u001b[39;00m \u001b[38;5;167;01mTypeError\u001b[39;00m:\n\u001b[1;32m   3814\u001b[0m     \u001b[38;5;66;03m# If we have a listlike key, _check_indexing_error will raise\u001b[39;00m\n\u001b[1;32m   3815\u001b[0m     \u001b[38;5;66;03m#  InvalidIndexError. Otherwise we fall through and re-raise\u001b[39;00m\n\u001b[1;32m   3816\u001b[0m     \u001b[38;5;66;03m#  the TypeError.\u001b[39;00m\n\u001b[1;32m   3817\u001b[0m     \u001b[38;5;28mself\u001b[39m\u001b[38;5;241m.\u001b[39m_check_indexing_error(key)\n",
      "\u001b[0;31mKeyError\u001b[0m: 'value1_item_1'"
     ]
    }
   ],
   "source": [
    "# reshape data for visualization\n",
    "items_df_visual = pd.DataFrame()\n",
    "\n",
    "for trial in range(len(df)):\n",
    "    trial_data = []\n",
    "    for item in range(1, n_items+1): \n",
    "        row = {\n",
    "            'trial_number': item,\n",
    "            'Rebounds': df[f'value1_item_{item}'][trial],\n",
    "            'Assists': df[f'value2_item_{item}'][trial],\n",
    "            'Salary': df['capacity1'][trial],\n",
    "        }\n",
    "        trial_data.append(row)\n",
    "    items_df_visual = pd.concat([items_df_visual, pd.DataFrame(trial_data)], ignore_index=True) ## create a new sequential index\n",
    "\n",
    "items_df_visual"
   ]
  },
  {
   "cell_type": "code",
   "execution_count": null,
   "metadata": {},
   "outputs": [
    {
     "data": {
      "text/html": [
       "<div>\n",
       "<style scoped>\n",
       "    .dataframe tbody tr th:only-of-type {\n",
       "        vertical-align: middle;\n",
       "    }\n",
       "\n",
       "    .dataframe tbody tr th {\n",
       "        vertical-align: top;\n",
       "    }\n",
       "\n",
       "    .dataframe thead th {\n",
       "        text-align: right;\n",
       "    }\n",
       "</style>\n",
       "<table border=\"1\" class=\"dataframe\">\n",
       "  <thead>\n",
       "    <tr style=\"text-align: right;\">\n",
       "      <th></th>\n",
       "    </tr>\n",
       "  </thead>\n",
       "  <tbody>\n",
       "  </tbody>\n",
       "</table>\n",
       "</div>"
      ],
      "text/plain": [
       "Empty DataFrame\n",
       "Columns: []\n",
       "Index: []"
      ]
     },
     "execution_count": 14,
     "metadata": {},
     "output_type": "execute_result"
    }
   ],
   "source": [
    "items_df_visual.iloc[:, 1:6].corr(method='pearson')"
   ]
  },
  {
   "cell_type": "code",
   "execution_count": null,
   "metadata": {},
   "outputs": [
    {
     "name": "stderr",
     "output_type": "stream",
     "text": [
      "c:\\Users\\Ilyas\\AppData\\Local\\Programs\\Python\\Python311\\Lib\\site-packages\\seaborn\\matrix.py:309: UserWarning: Attempting to set identical low and high xlims makes transformation singular; automatically expanding.\n",
      "  ax.set(xlim=(0, self.data.shape[1]), ylim=(0, self.data.shape[0]))\n",
      "c:\\Users\\Ilyas\\AppData\\Local\\Programs\\Python\\Python311\\Lib\\site-packages\\seaborn\\matrix.py:309: UserWarning: Attempting to set identical low and high ylims makes transformation singular; automatically expanding.\n",
      "  ax.set(xlim=(0, self.data.shape[1]), ylim=(0, self.data.shape[0]))\n"
     ]
    },
    {
     "data": {
      "image/png": "[encoded data removed]",
      "text/plain": [
       "<Figure size 640x480 with 2 Axes>"
      ]
     },
     "metadata": {},
     "output_type": "display_data"
    }
   ],
   "source": [
    "import seaborn as sns\n",
    "import matplotlib.pyplot as plt\n",
    "\n",
    "sns.heatmap(items_df_visual.iloc[:, 1:6].corr(method='pearson'),\n",
    "            annot=True, fmt=\".2f\", cmap='coolwarm',vmin=-0.6,vmax =0.6)\n",
    "plt.tight_layout()  \n",
    "# plt.savefig(\"corr_matrix_50cards.png\", dpi=300, bbox_inches='tight')\n",
    "plt.show()"
   ]
  },
  {
   "cell_type": "code",
   "execution_count": null,
   "metadata": {},
   "outputs": [
    {
     "data": {
      "image/png": "[encoded data removed]",
      "text/plain": [
       "<Figure size 640x480 with 2 Axes>"
      ]
     },
     "metadata": {},
     "output_type": "display_data"
    }
   ],
   "source": [
    "labels = [\"Science\", \"Culture\", \"Govern\", \"Money\", \"Space\"]\n",
    "sns.heatmap(r_psd, xticklabels=labels, yticklabels=labels,\n",
    "            annot=True, fmt=\".2f\", cmap='coolwarm',vmin=-0.6,vmax =0.6)\n",
    "plt.tight_layout()  # ensures labels aren’t cut off\n",
    "# plt.savefig(\"corr_matrix_orginal.png\", dpi=300, bbox_inches='tight')\n",
    "plt.show()"
   ]
  }
 ],
 "metadata": {
  "kernelspec": {
   "display_name": "base",
   "language": "python",
   "name": "python3"
  },
  "language_info": {
   "codemirror_mode": {
    "name": "ipython",
    "version": 3
   },
   "file_extension": ".py",
   "mimetype": "text/x-python",
   "name": "python",
   "nbconvert_exporter": "python",
   "pygments_lexer": "ipython3",
   "version": "3.13.5"
  }
 },
 "nbformat": 4,
 "nbformat_minor": 2
}
