{
 "cells": [
  {
   "cell_type": "code",
   "execution_count": 1,
   "id": "a0cf691e",
   "metadata": {},
   "outputs": [],
   "source": [
    "import itertools\n",
    "import pulp\n",
    "import matplotlib.pyplot as plt\n",
    "from numpy import random\n",
    "import numpy as np\n",
    "from mpl_toolkits.mplot3d import Axes3D\n",
    "from Data import load_data \n",
    "rng = random.default_rng(42)  # For reproducibility"
   ]
  },
  {
   "cell_type": "code",
   "execution_count": 2,
   "id": "98fb9c85",
   "metadata": {},
   "outputs": [],
   "source": [
    "#simulated data beed to replace with generalized dirichlet samples\n",
    "\n",
    "players, profit1, profit2, weight = load_data(\"./nbasalariespoints.csv\", \"Player\", \"PS/G▼\", \"FG%\", \"SALARY\")\n",
    "capacity = 150_000_000\n",
    "N = len(players)"
   ]
  },
  {
   "cell_type": "code",
   "execution_count": 3,
   "id": "80b5e554",
   "metadata": {},
   "outputs": [],
   "source": [
    "# single-objective reference points\n",
    "# 1. Maximize profit 1\n",
    "model_p1 = pulp.LpProblem(\"max_profit1\", pulp.LpMaximize)\n",
    "x_p1 = pulp.LpVariable.dicts(\"x\", range(N), cat=\"Binary\")\n",
    "model_p1 += pulp.lpSum(profit1[i]*x_p1[i] for i in range(N))\n",
    "model_p1 += pulp.lpSum(weight[i]*x_p1[i] for i in range(N)) <= capacity\n",
    "model_p1.solve(pulp.PULP_CBC_CMD(msg=0))\n",
    "max_p1 = pulp.value(model_p1.objective)\n",
    "choices_p1 = [i for i in range(N) if x_p1[i].value() > 0.5]\n",
    "# 2. Maximize profit2\n",
    "model_p2 = pulp.LpProblem(\"max_profit2\", pulp.LpMaximize)\n",
    "x_p2 = pulp.LpVariable.dicts(\"x\", range(N), cat=\"Binary\")\n",
    "model_p2 += pulp.lpSum(profit2[i]*x_p2[i] for i in range(N))\n",
    "model_p2 += pulp.lpSum(weight[i]*x_p2[i] for i in range(N)) <= capacity\n",
    "model_p2.solve(pulp.PULP_CBC_CMD(msg=0))\n",
    "max_p2 = pulp.value(model_p2.objective)"
   ]
  },
  {
   "cell_type": "code",
   "execution_count": 4,
   "id": "d6cea32c",
   "metadata": {},
   "outputs": [],
   "source": [
    "\n",
    "# ε-constraint baselibe.  for any value of profit 2 maxinimize profit 1\n",
    "p1_val = []\n",
    "p2_val = []\n",
    "\n",
    "solutions = []\n",
    "\n",
    "eps = 0\n",
    "model = pulp.LpProblem(f\"eps_{eps:.1f}\", pulp.LpMaximize)\n",
    "x = pulp.LpVariable.dicts(\"x\", range(N), cat=\"Binary\")\n",
    "model += pulp.lpSum(profit1[i]*x[i] for i in range(N))\n",
    "model += pulp.lpSum(profit2[i]*x[i] for i in range(N)) >= eps\n",
    "model += pulp.lpSum(weight[i]*x[i] for i in range(N)) <= capacity\n",
    "model.solve(pulp.PULP_CBC_CMD(msg=0))\n",
    "if model.status == 1:  # optimal\n",
    "    p1_val.append(pulp.value(model.objective))\n",
    "    p2_val.append(sum(profit2[i]*x[i].value() for i in range(N)))\n",
    "    choices = [i for i in range(N) if x[i].value() > 0.5]\n",
    "    solutions.append(choices)"
   ]
  },
  {
   "cell_type": "code",
   "execution_count": 9,
   "id": "57ab1009",
   "metadata": {},
   "outputs": [
    {
     "name": "stdout",
     "output_type": "stream",
     "text": [
      "Found 1 Pareto solutions:\n",
      "\n",
      " 0: Profit1 = 901.8, Profit2 = 49.2, Weight = 149,985,458\n",
      " Items = [  5  17  18  35  39  45  49  58  59  60  69  70  78  79  81  88  89  94\n",
      "  99 101 102 103 104 106 108 110 112 113 114 115 120 121 124 127 128 131\n",
      " 133 135 136 140 141 145 148 153 155 161 163 167 169 170 171 175 176 178\n",
      " 181 184 185 187 189 195 200 201 202 206 210 212 213 222 235 236 238 239\n",
      " 241 242 243 244 246 248 250 253 256 258 259 261 263 264 268 270 276 277\n",
      " 278 279 285 287 289 291 294 296 297 300 302 306 308 313 314 318 323 330\n",
      " 331 335 338 340]\n"
     ]
    },
    {
     "data": {
      "image/png": "[encoded data removed]",
      "text/plain": [
       "<Figure size 600x600 with 1 Axes>"
      ]
     },
     "metadata": {},
     "output_type": "display_data"
    }
   ],
   "source": [
    "solutions = np.array(solutions);\n",
    "unique_solutions, indices = np.unique(solutions, axis=0, return_index=True)\n",
    "p1_val = np.array(p1_val)[indices]\n",
    "p2_val = np.array(p2_val)[indices]\n",
    "\n",
    "# Display results\n",
    "print(f\"Found {len(unique_solutions)} Pareto solutions:\\n\")\n",
    "for idx,choices in enumerate(unique_solutions):\n",
    "    print(f\"{idx:2d}: Profit1 = {p1_val[idx]:.1f}, Profit2 = {p2_val[idx]:.1f}, Weight = {np.sum(weight[unique_solutions]):,}\\n Items = {choices}\")\n",
    "\n",
    "# Plot objective space\n",
    "plt.figure(figsize=(6,6))\n",
    "plt.scatter(p1_val, p2_val / 100, c='blue', marker='o', label='Pareto front')\n",
    "plt.xlabel(\"PPG\")\n",
    "plt.ylabel(\"FG%\")\n",
    "plt.title(\"Pareto front (ε‑constraint)\")\n",
    "plt.show()\n"
   ]
  },
  {
   "cell_type": "code",
   "execution_count": 6,
   "id": "6149c57a",
   "metadata": {},
   "outputs": [
    {
     "ename": "AttributeError",
     "evalue": "'numpy.ndarray' object has no attribute 'append'",
     "output_type": "error",
     "traceback": [
      "\u001b[31m---------------------------------------------------------------------------\u001b[39m",
      "\u001b[31mAttributeError\u001b[39m                            Traceback (most recent call last)",
      "\u001b[36mCell\u001b[39m\u001b[36m \u001b[39m\u001b[32mIn[6]\u001b[39m\u001b[32m, line 13\u001b[39m\n\u001b[32m     11\u001b[39m model.solve(pulp.PULP_CBC_CMD(msg=\u001b[32m0\u001b[39m))\n\u001b[32m     12\u001b[39m \u001b[38;5;28;01mif\u001b[39;00m model.status == \u001b[32m1\u001b[39m:  \u001b[38;5;66;03m# optimal\u001b[39;00m\n\u001b[32m---> \u001b[39m\u001b[32m13\u001b[39m     \u001b[43mp1_val\u001b[49m\u001b[43m.\u001b[49m\u001b[43mappend\u001b[49m(pulp.value(model.objective))\n\u001b[32m     14\u001b[39m     p2_val.append(\u001b[38;5;28msum\u001b[39m(profit2[i]*x[i].value() \u001b[38;5;28;01mfor\u001b[39;00m i \u001b[38;5;129;01min\u001b[39;00m \u001b[38;5;28mrange\u001b[39m(N)))\n\u001b[32m     15\u001b[39m     choices = [i \u001b[38;5;28;01mfor\u001b[39;00m i \u001b[38;5;129;01min\u001b[39;00m \u001b[38;5;28mrange\u001b[39m(N) \u001b[38;5;28;01mif\u001b[39;00m x[i].value() > \u001b[32m0.5\u001b[39m]\n",
      "\u001b[31mAttributeError\u001b[39m: 'numpy.ndarray' object has no attribute 'append'"
     ]
    }
   ],
   "source": [
    "num_steps = 100\n",
    "\n",
    "# ε-constraint loop: for different ε thresholds on profit2, maximize profit1\n",
    "\n",
    "for eps in [max_p2 * i / num_steps for i in range(1, num_steps + 1)]:\n",
    "    model = pulp.LpProblem(f\"eps_{eps:.1f}\", pulp.LpMaximize)\n",
    "    x = pulp.LpVariable.dicts(\"x\", range(N), cat=\"Binary\")\n",
    "    model += pulp.lpSum(profit1[i]*x[i] for i in range(N))\n",
    "    model += pulp.lpSum(profit2[i]*x[i] for i in range(N)) >= eps\n",
    "    model += pulp.lpSum(weight[i]*x[i] for i in range(N)) <= capacity\n",
    "    model.solve(pulp.PULP_CBC_CMD(msg=0))\n",
    "    if model.status == 1:  # optimal\n",
    "        p1_val.append(pulp.value(model.objective))\n",
    "        p2_val.append(sum(profit2[i]*x[i].value() for i in range(N)))\n",
    "        choices = [i for i in range(N) if x[i].value() > 0.5]\n",
    "        solutions.append(choices)\n",
    "\n"
   ]
  },
  {
   "cell_type": "code",
   "execution_count": null,
   "id": "85fa477d",
   "metadata": {},
   "outputs": [],
   "source": [
    "solutions = np.array(solutions);\n",
    "unique_solutions, indices = np.unique(solutions, axis=0, return_index=True)\n",
    "p1_val = np.array(p1_val)[indices]\n",
    "p2_val = np.array(p2_val)[indices]\n",
    "\n"
   ]
  },
  {
   "cell_type": "code",
   "execution_count": null,
   "id": "e93ac8b0",
   "metadata": {},
   "outputs": [],
   "source": [
    "\n",
    "# Display results\n",
    "print(f\"Found {len(unique_solutions)} Pareto solutions:\\n\")\n",
    "for idx,choices in enumerate(unique_solutions):\n",
    "    print(f\"{idx:2d}: Profit1 = {p1_val[idx]:.1f}, Profit2 = {p2_val[idx]:.1f}, Items = {choices}\")\n",
    "\n",
    "# Plot objective space\n",
    "plt.figure(figsize=(6,6))\n",
    "plt.scatter(p1_val, p2_val, c='blue', marker='o', label='Pareto front')\n",
    "plt.xlabel(\"Profit1\")\n",
    "plt.ylabel(\"Profit2\")\n",
    "plt.title(\"Pareto front (ε‑constraint)\")\n",
    "plt.show()\n"
   ]
  }
 ],
 "metadata": {
  "kernelspec": {
   "display_name": "Python 3",
   "language": "python",
   "name": "python3"
  },
  "language_info": {
   "codemirror_mode": {
    "name": "ipython",
    "version": 3
   },
   "file_extension": ".py",
   "mimetype": "text/x-python",
   "name": "python",
   "nbconvert_exporter": "python",
   "pygments_lexer": "ipython3",
   "version": "3.11.9"
  }
 },
 "nbformat": 4,
 "nbformat_minor": 5
}
